{
  "nbformat": 4,
  "nbformat_minor": 0,
  "metadata": {
    "colab": {
      "provenance": [],
      "collapsed_sections": [
        "mDs9yclOxvDq"
      ],
      "toc_visible": true,
      "include_colab_link": true
    },
    "kernelspec": {
      "name": "python3",
      "display_name": "Python 3"
    },
    "language_info": {
      "name": "python"
    }
  },
  "cells": [
    {
      "cell_type": "markdown",
      "metadata": {
        "id": "view-in-github",
        "colab_type": "text"
      },
      "source": [
        "<a href=\"https://colab.research.google.com/github/rajkstats/AOL-Exploratory-Data-Analysis/blob/master/FINAL_Week_2_PART_1_Simple_2D_Classification_Project_QUESTIONS.ipynb\" target=\"_parent\"><img src=\"https://colab.research.google.com/assets/colab-badge.svg\" alt=\"Open In Colab\"/></a>"
      ]
    },
    {
      "cell_type": "markdown",
      "source": [
        "# Week 2. Part 1: Classification with two-dimensional data\n",
        "\n",
        "> DUPLICATE THIS COLAB TO START WORKING ON IT. Using File > Save a copy to drive.\n"
      ],
      "metadata": {
        "id": "vXIWzlBpmLSd"
      }
    },
    {
      "cell_type": "code",
      "source": [
        "import numpy as np\n",
        "import matplotlib.pyplot as plt\n",
        "plt.style.use('ggplot')"
      ],
      "metadata": {
        "id": "Dpa_Zjv0zcsp"
      },
      "execution_count": null,
      "outputs": []
    },
    {
      "cell_type": "markdown",
      "source": [
        "## Instructions\n",
        "\n",
        "1. We provide starter code and data to give your work a common starting point and structure. You must keep function signatures unchanged to support later usage and to ensure your project is graded successfully.\n",
        "2. Read through the document and starting code before beginning your work. Understand the overall structure and goals of the project to ensure your implementation is efficient.  \n",
        "3. Do the following 2-D exercise prior to the next notebook to ensure that you are familiar with basic metrics and problem formulation for classification tasks. Once you're comfortable with the concepts and code in this notebook, move on to the notebook that contains part two for more complex modeling work."
      ],
      "metadata": {
        "id": "mDs9yclOxvDq"
      }
    },
    {
      "cell_type": "markdown",
      "source": [
        "# Preliminaries of Classification Modeling"
      ],
      "metadata": {
        "id": "NEE-RS4jxzCK"
      }
    },
    {
      "cell_type": "markdown",
      "source": [
        "Much like regression (which you saw last week), classification falls under the paradigm of supervised learning models. Recall the components of a supervised model:\n",
        "* Dataset $\\mathcal{D}$ with input/output pairs $(x,y) \\in \\mathcal{D}$\n",
        "* Function approximation model $f_\\theta(x)→y$\n",
        "* Loss(objective) function $\\mathcal{L}_{\\mathcal{D}}(f_\\theta )$\n",
        "* Training procedure to find $\\underset{\\theta \\in \\Theta}{\\operatorname{argmin}} \\mathcal{L}_\\mathcal{D}(f_\\theta )$\n",
        "\n",
        "### ML problem formulation: Classification vs regression\n",
        "Recall our high-level framework for ML problem formulation, which includes formulating the function $f(x)→y$ that we plan to approximate. In this notation, $x = [x_1, x_2, \\ldots]$ is a set of independent variables (i.e., inputs) where as $y$ is a response variable.\n",
        "\n",
        "In the previous week, we looked at regression problems, where the response variable $y$ is a real valued number. This week, we study a second major type of machine learning: classification. Now the response variable $y$ is one of $K$ different values, and the goal for the function $f$ to place $x$ into the right bin. For example, $x$ could represent natural language with $y$ indicating positive or negative sentiment (two bins). Alternatively, $x$ could be a company's financial data with $y$ representing if the stock will rise or fall (two bins). \n",
        "\n",
        "### Starting with linear classification\n",
        "\n",
        "Linear classification algorithms model data by dividing the input space into two classes using a linear equation. More generally, classification problems are concerned with $K$ different classes, but for simplicity, we will start with $K=2$. Somewhat confusingly, this model is called *logistic regression*, despite being a classification model. Let's write out the components of logistic regression:\n",
        "\n",
        "**Function approximation model: (2-class) [Logistic regression](https://www.analyticsvidhya.com/blog/2020/10/demystification-of-logistic-regression/)**\n",
        "\n",
        "$f_\\theta(x) = \\sigma(\\theta_1 x_1 + \\theta_2 x_2 + ...)$\n",
        "\n",
        "$\\hat{y} = \\begin{cases}\n",
        "1 & \\text{ if } f_\\theta(x) \\geq 0.5 \\\\ 0 & \\text{ if } f_\\theta(x) < 0.5\n",
        "\\end{cases}$\n",
        "\n",
        "Notice that the approximation is almost the same as the approximation for linear regression: The model chooses a linear form so that there is a $\\theta_i$ for each input variable $x_i$. The difference is the additional function $\\sigma$ that wraps around the linear form. This is called the *logistic function*, $\\sigma(x) = \\frac{1}{1+e^{-x}}$.\n",
        "\n",
        "We can visualize the logistic function:"
      ],
      "metadata": {
        "id": "nJHbDc5lx4RY"
      }
    },
    {
      "cell_type": "code",
      "source": [
        "x = np.linspace(-10, 10, 1000)\n",
        "y = 1. / (1. + np.exp(-x))\n",
        "\n",
        "plt.figure(figsize=(10, 4))\n",
        "plt.plot(x, y, color='black')\n",
        "plt.fill_between(x, 0.5, 1, alpha=0.1, color='b')\n",
        "plt.fill_between(x, 0, 0.5, alpha=0.1, color='r')\n",
        "plt.show()"
      ],
      "metadata": {
        "id": "mwsbPcRFE-JY"
      },
      "execution_count": null,
      "outputs": []
    },
    {
      "cell_type": "markdown",
      "source": [
        "One important feature of the logistic function is that it maps numbers from negative infinity to infinity on the x-axis to the bounded interval $[0, 1]$ on the y-axis. We can see why this might be useful for classification, as $\\theta_1 x_1 + \\theta_2 x_2 + \\ldots \\in \\mathbb{R}$ represents any real-valued number, but $\\sigma(\\theta_1 x_1 + \\theta_2 x_2 + \\ldots)$ represents the predicted probability of the output $\\hat{y}$ being class 1. \n",
        "\n",
        "In the figure, the shaded areas show that the output of the logistic function is split into two classes at 0.5. If $f_\\theta(x) \\geq 0.5$, we predict class 1 (blue) but if $f_\\theta(x) < 0.5$, we predict class 0 (red).\n",
        "\n",
        "**Loss function: Binary cross entropy**\n",
        "\n",
        "$\\mathcal{L}_\\mathcal{D}(\\theta) = -\\sum_{i \\in \\mathcal{D}} \\left (y^{(i)} \\log f_\\theta(x^{(i)}) + (1 - y^{(i)}) \\log (1 - f_\\theta(x^{(i)})) \\right)$\n",
        "\n",
        "where $y^{(i)}$ is the $i$-th element in the dataset $\\mathcal{D}$. Looking at the form of this loss function, if $y^{(i)} = 0$ then the first term of the sum is $0$ and we are rewarded more as $f_\\theta(x^{(i)}) \\rightarrow 1$; if $y^{(i)} = 1$ then the second term of the sum is $0$ and we are rewarded more as $f_\\theta(x^{(i)}) \\rightarrow 0$.\n",
        "\n",
        "**Training procedure**\n",
        "\n",
        "As we did in Week 1, we will not go into too much detail on the training process and instead rely on fast optimization that scales to large tasks. "
      ],
      "metadata": {
        "id": "xsNfobfXz4UT"
      }
    },
    {
      "cell_type": "markdown",
      "source": [
        "# Building a first classification model\n",
        "\n",
        "We want to be able to visualize model predictions, so we will restrict this example to a two-dimensional plane (i.e., two input features $x_1$ and $x_2$). This allows us to visualize the line that determines the classification between two classes. \n",
        "\n",
        "To showcase this, we'll make a toy dataset by sampling random values for the input features $x_1, x_2$ and define the output $y$ to be $y = \\sigma(w_1 x_1 + w_2 x_2 + \\epsilon)$ where $w_1$ and $w_2$ are weight parameters (that we will train models to learn) and $\\epsilon$ is a term to inject random noise into this toy dataset (such that it is not completely trivial for a model to learn). \n",
        "\n",
        "### Creating a toy dataset\n",
        "\n",
        "We start by picking some true parameters of the model (see `w_true` below). Using these parameters, we can generate target variables $y$ given the randomly chosen inputs $x_1, x_2$. For real world datasets, we do not know the true `w_true` but in toy datasets that we generate from scratch, we know the underlying parameters!"
      ],
      "metadata": {
        "id": "QHLV5PFVSzDw"
      }
    },
    {
      "cell_type": "code",
      "source": [
        "# parameters of toy dataset\n",
        "n_examples = 500\n",
        "\n",
        "def sigmoid(x): \n",
        "  return 1. / (1. + np.exp(-x))\n",
        "\n",
        "# uniformly sample inputs x.\n",
        "rs = np.random.RandomState(42)\n",
        "\n",
        "def make_toy_linear(n_examples, rs):\n",
        "  w_true = np.array([[-0.5, 0.5]])\n",
        "  dataset_X = rs.rand(n_examples,2)\n",
        "  noise = 0.2 * rs.rand(n_examples,1)\n",
        "  dataset_y = (w_true @ dataset_X.T).T + noise\n",
        "  dataset_y = sigmoid(dataset_y).ravel()\n",
        "  dataset_y = (dataset_y >= 0.5).astype(int)  # Q: why do need to round?\n",
        "  return dataset_X, dataset_y \n",
        "\n",
        "dataset_X, dataset_y = make_toy_linear(n_examples, rs)"
      ],
      "metadata": {
        "id": "54wuQJTaT8U2"
      },
      "execution_count": null,
      "outputs": []
    },
    {
      "cell_type": "markdown",
      "source": [
        "We can plot each example in the dataset as a point in 2-D space (using $x_1$ and $x_2$ as the two axes). Then, we can color each point blue if it has class 1 or red if it has class 0. We purposefully inject noise into this process to make the toy dataset more representative of real world data, where there is naturally noise in the data collection and annotation. "
      ],
      "metadata": {
        "id": "Xfv2H082Ullo"
      }
    },
    {
      "cell_type": "code",
      "source": [
        "plt.figure(figsize=(8, 8))\n",
        "plt.scatter(dataset_X[dataset_y == 0, 0], dataset_X[dataset_y == 0, 1], color='r')\n",
        "plt.scatter(dataset_X[dataset_y == 1, 0], dataset_X[dataset_y == 1, 1], color='b')\n",
        "plt.xlabel('x', fontsize=18)\n",
        "plt.ylabel('y', fontsize=18)\n",
        "plt.show()"
      ],
      "metadata": {
        "id": "nnkfV2z3UMku"
      },
      "execution_count": null,
      "outputs": []
    },
    {
      "cell_type": "markdown",
      "source": [
        "Mentally, it should be easy for you to draw a \"best fit line\" that divides the blue and red points. Let's see if we can do that with various models by exploring the unique characteristics of different model families."
      ],
      "metadata": {
        "id": "6ONXJXTCWLA2"
      }
    },
    {
      "cell_type": "markdown",
      "source": [
        "### Creating a nonlinear toy dataset\n",
        "\n",
        "Before we move forward with training the models, however, let's first make a second, slightly more difficult dataset: one that requires some nonlinearity to solve."
      ],
      "metadata": {
        "id": "G0a0xq3TW_vl"
      }
    },
    {
      "cell_type": "code",
      "source": [
        "# parameters of toy dataset\n",
        "n_examples = 500\n",
        "\n",
        "def sigmoid(x): \n",
        "  return 1. / (1. + np.exp(-x))\n",
        "\n",
        "rs = np.random.RandomState(42)\n",
        "\n",
        "def make_toy_circle(n_examples, rs):\n",
        "  # uniformly sample inputs x.)\n",
        "  dataset_X_circ = 2 * rs.rand(n_examples,2) - 1\n",
        "  noise_circ = 0.3 * rs.rand(n_examples,1)\n",
        "  radius = dataset_X_circ[:, 0]**2 + dataset_X_circ[:, 1]**2\n",
        "  dataset_y_circ = radius  + noise_circ.ravel()\n",
        "  dataset_y_circ = (dataset_y_circ > 0.6).astype(int)\n",
        "  return dataset_X_circ, dataset_y_circ\n",
        "\n",
        "dataset_X_circ, dataset_y_circ = make_toy_circle(n_examples, rs)"
      ],
      "metadata": {
        "id": "9EVjzkVrXLi4"
      },
      "execution_count": null,
      "outputs": []
    },
    {
      "cell_type": "markdown",
      "source": [
        "As you can see, we roughly drew a circle (with some noise added in). Everything inside the circle is class 1 and everything outside of it is class 0.\n",
        "\n",
        "Unlike the dataset above, this dataset does not have a `w_true`. Why? Because the previous dataset was generated using a logistic regression model! Here, we used a different generation process: sampling points from a unit square and then classifying points using a circular region.\n",
        "\n",
        "**Question**:\n",
        "How well do you think logistic regression will perform on both datasets? Why?"
      ],
      "metadata": {
        "id": "O457tijqXzMA"
      }
    },
    {
      "cell_type": "markdown",
      "source": [
        "===== (Write your answer here) ====="
      ],
      "metadata": {
        "id": "hsb1Q8dtZm-L"
      }
    },
    {
      "cell_type": "markdown",
      "source": [
        "We'll find out if your intuitions are correct below through experiments! "
      ],
      "metadata": {
        "id": "wWFgGKKHZ1Q0"
      }
    },
    {
      "cell_type": "code",
      "source": [
        "plt.figure(figsize=(8, 8))\n",
        "plt.scatter(dataset_X_circ[dataset_y_circ == 0, 0], \n",
        "            dataset_X_circ[dataset_y_circ == 0, 1], color='r')\n",
        "plt.scatter(dataset_X_circ[dataset_y_circ == 1, 0], \n",
        "            dataset_X_circ[dataset_y_circ == 1, 1], color='b')\n",
        "plt.xlabel('x', fontsize=18)\n",
        "plt.ylabel('y', fontsize=18)\n",
        "plt.show()"
      ],
      "metadata": {
        "id": "Q3eMCqgHX8th"
      },
      "execution_count": null,
      "outputs": []
    },
    {
      "cell_type": "markdown",
      "source": [
        "# Training / fitting the model\n",
        "\n",
        "First, let's train a linear model using the scikit-learn package. We recommend looking at the [documentation](https://scikit-learn.org/stable/modules/linear_model.html#logistic-regression) for more details. When calling `fit()`, scikit-learn will use the training dataset to find the model weights which best optimize the loss function (in this case, binary cross entropy). We will do so for both toy datasets and visualize the results.\n",
        "\n",
        "Let's start by training a model on each dataset:"
      ],
      "metadata": {
        "id": "asCYa21nWV4A"
      }
    },
    {
      "cell_type": "code",
      "source": [
        "from sklearn.linear_model import LogisticRegression\n",
        "\n",
        "## fit basic linear model with scikit\n",
        "regr_2d = LogisticRegression()\n",
        "# this command trains (fits) the model using the dataset passed in\n",
        "regr_2d.fit(dataset_X, dataset_y)\n",
        "\n",
        "# train another model for the nonlinear dataset\n",
        "regr_circ = LogisticRegression()\n",
        "regr_circ.fit(dataset_X_circ, dataset_y_circ)"
      ],
      "metadata": {
        "id": "Hx2RndOiaEVh"
      },
      "execution_count": null,
      "outputs": []
    },
    {
      "cell_type": "markdown",
      "source": [
        "### Generating predictions\n",
        "\n",
        "After training the models, we're ready to visualize our results.\n",
        "\n",
        "Starting with the model trained on the linear dataset, we will overlay a plot of the model's decision function, i.e. how the model splits positive and negative classes (shown as a black line below), on top of the dataset plot (red and blue points from above):"
      ],
      "metadata": {
        "id": "irXdDLdIbNOy"
      }
    },
    {
      "cell_type": "code",
      "source": [
        "def get_contour(model, min_x=0, max_x=1, min_y=0, max_y=1,\n",
        "                step_x=0.01, step_y=0.01):\n",
        "  \"\"\"\n",
        "  Generic script to plot decision boundaries captured \n",
        "  by a model. \n",
        "  \"\"\"\n",
        "  # define a mesh grid and pass it through the model\n",
        "  xx, yy = np.meshgrid(np.arange(min_x, max_x, step_x),\n",
        "                        np.arange(min_y, max_y, step_y))\n",
        "  grid = np.c_[xx.ravel(), yy.ravel()]\n",
        "  # make predictions based on the model\n",
        "  preds = model.predict(grid)\n",
        "  z = np.rint(preds).astype(np.int)\n",
        "  z = z.reshape(xx.shape)\n",
        "  return z, xx, yy"
      ],
      "metadata": {
        "id": "k_YzjHyQcmae"
      },
      "execution_count": null,
      "outputs": []
    },
    {
      "cell_type": "code",
      "source": [
        "# sklearn provides prediction function as a standard interface for models\n",
        "z, xx, yy = get_contour(regr_2d, min_x=0, max_x=1, min_y=0, max_y=1)\n",
        "\n",
        "plt.figure(figsize=(8, 8))\n",
        "plt.scatter(dataset_X[dataset_y == 0, 0], dataset_X[dataset_y == 0, 1], color='r')\n",
        "plt.scatter(dataset_X[dataset_y == 1, 0], dataset_X[dataset_y == 1, 1], color='b')\n",
        "plt.contour(xx, yy, z, colors='k')\n",
        "plt.scatter(xx[z == 0], yy[z == 0], color='r', alpha=0.05)\n",
        "plt.scatter(xx[z == 1], yy[z == 1], color='b', alpha=0.05)\n",
        "plt.xlabel('x', fontsize=18)\n",
        "plt.ylabel('y', fontsize=18)\n",
        "plt.show()"
      ],
      "metadata": {
        "id": "raG0e_hxbQ2e"
      },
      "execution_count": null,
      "outputs": []
    },
    {
      "cell_type": "markdown",
      "source": [
        "The model does a good job of splitting the two classes apart. In particular, in the noisy region where there are both blue and red points, the line sits roughly in the middle, minimizing the error as best it can.\n",
        "\n",
        "Now, let's use the same approach to visualize the results of the model trained on the circular dataset:"
      ],
      "metadata": {
        "id": "pA6Kz8lcfJg4"
      }
    },
    {
      "cell_type": "code",
      "source": [
        "# sklearn provides prediction function as a standard interface for models\n",
        "z, xx, yy = get_contour(regr_circ, min_x=-1, max_x=1, min_y=-1, max_y=1)\n",
        "\n",
        "plt.figure(figsize=(8, 8))\n",
        "plt.scatter(dataset_X_circ[dataset_y_circ == 0, 0], \n",
        "            dataset_X_circ[dataset_y_circ == 0, 1], color='r')\n",
        "plt.scatter(dataset_X_circ[dataset_y_circ == 1, 0], \n",
        "            dataset_X_circ[dataset_y_circ == 1, 1], color='b')\n",
        "plt.scatter(xx[z == 0], yy[z == 0], color='r', alpha=0.01)\n",
        "plt.scatter(xx[z == 1], yy[z == 1], color='b', alpha=0.01)\n",
        "plt.contour(xx, yy, z, colors='k')\n",
        "plt.xlabel('x', fontsize=18)\n",
        "plt.ylabel('y', fontsize=18)\n",
        "plt.show()"
      ],
      "metadata": {
        "id": "Wy8h3uxxgRLI"
      },
      "execution_count": null,
      "outputs": []
    },
    {
      "cell_type": "markdown",
      "source": [
        "Interestingly, there is **no** contour visualized? Let's take a look at what the model's predictions actually are."
      ],
      "metadata": {
        "id": "V8wrQRKTgsik"
      }
    },
    {
      "cell_type": "code",
      "source": [
        "from collections import Counter\n",
        "Counter(regr_circ.predict(dataset_X_circ))"
      ],
      "metadata": {
        "id": "bCZVzknpgyNM"
      },
      "execution_count": null,
      "outputs": []
    },
    {
      "cell_type": "markdown",
      "source": [
        "Looks like the model only predicts positive values and accepts the error of being wrong on the negative points.\n",
        "\n",
        "**Question:**\n",
        "Why do you think the model does this? \n",
        "\n",
        "HINT: count the number of positive and negative examples in our circle dataset."
      ],
      "metadata": {
        "id": "LiI1ZQ2Cg4zC"
      }
    },
    {
      "cell_type": "markdown",
      "source": [
        "===== (Write your answer here) ====="
      ],
      "metadata": {
        "id": "uH_dVEHjhL-J"
      }
    },
    {
      "cell_type": "markdown",
      "source": [
        "Did these results for these models match your intuition? Why or why not? Was anything unexpected?"
      ],
      "metadata": {
        "id": "Ddoxuh6Jh0JT"
      }
    },
    {
      "cell_type": "markdown",
      "source": [
        "===== (Write your answer here) ====="
      ],
      "metadata": {
        "id": "-UadOtbQiDte"
      }
    },
    {
      "cell_type": "markdown",
      "source": [
        "# Improving results with nonlinear classification models\n",
        "\n",
        "To summarize our results so far, the linear model performed fairly well on the linear toy dataset, which is to be expected since the dataset is generated with a linear function. However, the model struggled on the circular dataset, which is also expected as it is impossible to draw a circle with a straight line.\n",
        "\n",
        "Using a linear model on the circle dataset leads to underfitting, as no possible choice of weights could perform well on the classification task. In other words, the variation of the dataset exceeds the variation that a linear model can capture.\n",
        "\n",
        "Given the qualitative performance of the logistic regression model, can we do better with more popular models that have potentially nonlinear decision boundaries? \n",
        "\n",
        "*Advanced:* If you want to build intuition about particular ML algorithms in sklearn, you can review the [documentation](https://scikit-learn.org/stable/supervised_learning.html) or use this [plot](https://scikit-learn.org/stable/auto_examples/classification/plot_classifier_comparison.html).\n",
        "\n",
        "For a mathematical long-form introduction to different classifier models and their underlying mathematical principles, see the CS229 lecture videos.\n",
        "\n"
      ],
      "metadata": {
        "id": "0i_ZoNbthRx6"
      }
    },
    {
      "cell_type": "markdown",
      "source": [
        "Now that we're ready to explore new models, we'll first use the `DecisionTreeClassifier` in the scikit-learn package to train decision tree models on our linear and circular datasets:"
      ],
      "metadata": {
        "id": "RZ9vpXezVFwb"
      }
    },
    {
      "cell_type": "code",
      "source": [
        "from sklearn.tree import DecisionTreeClassifier\n",
        "\n",
        "# fit the decision tree on the linear dataset\n",
        "regr_2d_dt = DecisionTreeClassifier(max_leaf_nodes=30)\n",
        "regr_2d_dt.fit(dataset_X, dataset_y)\n",
        "\n",
        "# fit the decision tree on the circle dataset\n",
        "regr_circ_dt = DecisionTreeClassifier(max_leaf_nodes=30)\n",
        "regr_circ_dt.fit(dataset_X_circ, dataset_y_circ)"
      ],
      "metadata": {
        "id": "8eESNhM_jNJf"
      },
      "execution_count": null,
      "outputs": []
    },
    {
      "cell_type": "markdown",
      "source": [
        "On a high level, a decision tree learns a decision function through a tree of decision nodes, where each node defines an `if statement` (e.g. `if x1 > 0.5, then ...`). In other words, decision trees consist of step-like functions that partition the input space into different regions, with each region having an associated predicted class.\n",
        "\n",
        "The hyperparameter `max_leaf_nodes` bounds the number of if statements that the decision tree can capture. Increasing this value creates a more expressive model but increases the risk of overfitting.\n",
        "\n",
        "As we did with the linear model, let's now visualize the results of our decision trees for each dataset!"
      ],
      "metadata": {
        "id": "8fBANvimjk10"
      }
    },
    {
      "cell_type": "code",
      "source": [
        "# Toy linear dataset\n",
        "\n",
        "z, xx, yy = get_contour(regr_2d_dt, min_x=0, max_x=1, min_y=0, max_y=1)\n",
        "\n",
        "plt.figure(figsize=(8, 8))\n",
        "plt.scatter(dataset_X[dataset_y == 0, 0], dataset_X[dataset_y == 0, 1], color='r')\n",
        "plt.scatter(dataset_X[dataset_y == 1, 0], dataset_X[dataset_y == 1, 1], color='b')\n",
        "plt.scatter(xx[z == 0], yy[z == 0], color='r', alpha=0.05)\n",
        "plt.scatter(xx[z == 1], yy[z == 1], color='b', alpha=0.05)\n",
        "plt.contour(xx, yy, z, colors='k')\n",
        "plt.xlabel('x', fontsize=18)\n",
        "plt.ylabel('y', fontsize=18)\n",
        "plt.show()"
      ],
      "metadata": {
        "id": "Vip4LG4tkcCf"
      },
      "execution_count": null,
      "outputs": []
    },
    {
      "cell_type": "code",
      "source": [
        "z, xx, yy = get_contour(regr_circ_dt, min_x=-1, max_x=1, min_y=-1, max_y=1)\n",
        "\n",
        "plt.figure(figsize=(8, 8))\n",
        "plt.scatter(dataset_X_circ[dataset_y_circ == 0, 0], \n",
        "            dataset_X_circ[dataset_y_circ == 0, 1], color='r')\n",
        "plt.scatter(dataset_X_circ[dataset_y_circ == 1, 0], \n",
        "            dataset_X_circ[dataset_y_circ == 1, 1], color='b')\n",
        "plt.scatter(xx[z == 0], yy[z == 0], color='r', alpha=0.01)\n",
        "plt.scatter(xx[z == 1], yy[z == 1], color='b', alpha=0.01)\n",
        "plt.contour(xx, yy, z, colors='k')\n",
        "plt.xlabel('x', fontsize=18)\n",
        "plt.ylabel('y', fontsize=18)\n",
        "plt.show()"
      ],
      "metadata": {
        "id": "5uTniHnbkovA"
      },
      "execution_count": null,
      "outputs": []
    },
    {
      "cell_type": "markdown",
      "source": [
        "**Question:** \n",
        "\n",
        "It looks like all the decision functions from the decision tree are axis-aligned, e.g. parallel to either the x or y axis. Why do you think this is? \n",
        "\n",
        "HINT: You can print out the decision function as a tree of if statements using the following:\n",
        "```\n",
        "from sklearn.tree import export_text\n",
        "print(export_text(regr_2d_dt, feature_names=['x1', 'x2']))\n",
        "```"
      ],
      "metadata": {
        "id": "OHoPzyEJkvG6"
      }
    },
    {
      "cell_type": "markdown",
      "source": [
        "===== (Write your answer here) ====="
      ],
      "metadata": {
        "id": "ZcVVLt66kl3M"
      }
    },
    {
      "cell_type": "markdown",
      "source": [
        "The first thing we notice is that the learned decision boundary for the linear dataset seems overly complex -- while it definitely seems to split the blue and red points apart very well, it doesn't match our intuitive understanding of the correct decision function. In other words, it is overfitting to the noise, rather than the signal from the dataset.\n",
        "\n",
        "On the other dataset, it looks like the model was more faithfully able to draw a funny-looking circle, although perhaps it is still overfitting."
      ],
      "metadata": {
        "id": "7FLophVTlKPg"
      }
    },
    {
      "cell_type": "markdown",
      "source": [
        "**Task:**\n",
        "\n",
        "Try changing the `max_leaf_nodes` hyperparameter: make it smaller and make it bigger. Can you find a \"perfect\" value? Describe your experience below."
      ],
      "metadata": {
        "id": "NkNSemXyluXA"
      }
    },
    {
      "cell_type": "markdown",
      "source": [
        "===== (Write your answer here) ====="
      ],
      "metadata": {
        "id": "dWxRP5OYmAhM"
      }
    },
    {
      "cell_type": "markdown",
      "source": [
        "# Classification error metrics"
      ],
      "metadata": {
        "id": "kofPlNqeho-R"
      }
    },
    {
      "cell_type": "markdown",
      "source": [
        "As visually pleasing as decision functions are, we would also like to have a quantitative analysis. For classification, there is a rich library of metrics that we can use to measure performance on our held-out dev set. Here, we'll introduce four such metrics for two-way classification.\n",
        "\n",
        "Let's first define some notation. A true positive (TP) is defined as a positive example that the model correctly classifies as positive. Simlarly, a true negative (TN) is a negative example that is correctly predicted as negative. A false positive (FP), on the other hand, is a negative example that the model incorrectly classifies as positive. False negatives (FN) are analogously defined.\n",
        "\n",
        "If we put the four values TN, TP, FP, and FN into a two-by-two matrix, we get a *confusion matrix*. ML practitioners widely use the confusion matrix as a way to track and diagnose model performance."
      ],
      "metadata": {
        "id": "jGZyqTnQmISa"
      }
    },
    {
      "cell_type": "markdown",
      "source": [
        "![image.png](data:image/png;base64,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)"
      ],
      "metadata": {
        "id": "Eyi_T-5aiQW4"
      }
    },
    {
      "cell_type": "code",
      "source": [
        "# Let's use scikit-learn to print the confusion matrix\n",
        "from sklearn.metrics import confusion_matrix\n",
        "\n",
        "# get predictions and predicted probabilities\n",
        "pred_y_2d = regr_2d.predict(dataset_X)\n",
        "\n",
        "print('Linear model on Linear dataset')\n",
        "print('[[TN FP]]\\n [FN TP]]')\n",
        "print(confusion_matrix(dataset_y, pred_y_2d))\n",
        "\n",
        "# Looks like we do pretty well! Not many FPs and FNs, with mostly TPs and TNs."
      ],
      "metadata": {
        "id": "ieiz_YSGFBQe"
      },
      "execution_count": null,
      "outputs": []
    },
    {
      "cell_type": "markdown",
      "source": [
        "With this in our vocabulary, let's begin! Below we will focus on a more mathematical definition of these metrics. Once we implement them, we will revisit and provide a more high-level interpretation.\n",
        "\n",
        "The simplest metric is average accuracy: Given the predictions of the model, the model is accurate if the prediction matches the true label and inaccurate otherwise. We compute average accuracy over a dev-set, $\\frac{1}{n}\\sum_{i=1}^n (y^{(i)} == \\hat{y}^{(i)})$ where $y^{(i)}$ represents the label of the $i$-th example of the dataset. Another way to define accuracy is $\\frac{\\text{TP} + \\text{TN}}{\\text{TP} + \\text{TN} + \\text{FP} + \\text{FN}}$. \n",
        "\n",
        "**Precision, Recall & F1**\n",
        "\n",
        "The next metric is precision, which is the number of correct positive predictions divided by all times the model predicted positive values, $\\frac{\\text{TP}}{\\text{TP} + \\text{FP}}$. Along with precision, we are usually interested in recall, which is the number of correct positive predictions divided by the number of true positive examples, $\\frac{\\text{TP}}{\\text{TP} + \\text{FN}}$.\n",
        "\n",
        "It is important to consider precision and recall together, because a model can have trivially high precision or recall if only one factor is considered. The F1 score acts as a summary statistic that is a combination of precision and recall. It is defined as  $\\text{F1} = 2 * \\frac{\\text{precision} * \\text{recall}}{\\text{precision} + \\text{recall}}$.\n",
        "\n",
        "For all of these metrics, a higher score is better!"
      ],
      "metadata": {
        "id": "r43PdhJPFB0N"
      }
    },
    {
      "cell_type": "markdown",
      "source": [
        "### Task: Using the formulas given above, implement the accuracy, precision, recall, and F1 metrics. Each function should return the relevant metric."
      ],
      "metadata": {
        "id": "pb3HuiRArJY-"
      }
    },
    {
      "cell_type": "code",
      "source": [
        "# TASK: Implement accuracy, precision, recall, and F1 as functions.\n",
        "\n",
        "def accuracy_score(y, y_hat):\n",
        "  #############################\n",
        "  #### YOUR CODE GOES HERE ####\n",
        "  return\n",
        "  #############################\n",
        "  \n",
        "def precision_score(y, y_hat):\n",
        "  #############################\n",
        "  #### YOUR CODE GOES HERE ####\n",
        "  return\n",
        "  #############################\n",
        "\n",
        "def recall_score(y, y_hat):\n",
        "  #############################\n",
        "  #### YOUR CODE GOES HERE ####\n",
        "  return\n",
        "  #############################\n",
        "\n",
        "def f1_score(y, y_hat):\n",
        "  #############################\n",
        "  #### YOUR CODE GOES HERE ####\n",
        "  return\n",
        "  #############################"
      ],
      "metadata": {
        "id": "b0L8tyOwrI8S"
      },
      "execution_count": null,
      "outputs": []
    },
    {
      "cell_type": "code",
      "source": [
        "#############################\n",
        "# Please store your model predictions with these variable names:\n",
        "# pred_y_circ = ...\n",
        "# pred_y_2d_dt = ...\n",
        "# pred_y_circ_dt = ...\n",
        "#### YOUR CODE GOES HERE ####\n",
        "\n",
        "#############################\n",
        "\n",
        "# Run metrics code on two model predictions\n",
        "print(\"[ours] logreg | linear dataset: acc: %.2f prec: %.2f recall: %.2f f1: %.2f\" % (accuracy_score(dataset_y, pred_y_2d), precision_score(dataset_y, pred_y_2d), recall_score(dataset_y, pred_y_2d), f1_score(dataset_y, pred_y_2d)))\n",
        "print(\"[ours] logreg | circle dataset: acc: %.2f prec: %.2f recall: %.2f f1: %.2f\" % (accuracy_score(dataset_y_circ, pred_y_circ), precision_score(dataset_y_circ, pred_y_circ), recall_score(dataset_y_circ, pred_y_circ), f1_score(dataset_y_circ, pred_y_circ)))\n",
        "print(\"[ours] tree | linear dataset: acc: %.2f prec: %.2f recall: %.2f f1: %.2f\" % (accuracy_score(dataset_y, pred_y_2d_dt), precision_score(dataset_y, pred_y_2d_dt), recall_score(dataset_y, pred_y_2d_dt), f1_score(dataset_y, pred_y_2d_dt)))\n",
        "print(\"[ours] tree | circle dataset: acc: %.2f prec: %.2f recall: %.2f f1: %.2f\" % (accuracy_score(dataset_y_circ, pred_y_circ_dt), precision_score(dataset_y_circ, pred_y_circ_dt), recall_score(dataset_y_circ, pred_y_circ_dt), f1_score(dataset_y_circ, pred_y_circ_dt)))"
      ],
      "metadata": {
        "id": "ob1LSttErHv1"
      },
      "execution_count": null,
      "outputs": []
    },
    {
      "cell_type": "code",
      "source": [
        "# Check that your implementation matches with scikit-learn\n",
        "from sklearn.metrics import accuracy_score, precision_score, recall_score, f1_score\n",
        "\n",
        "print(\"[scikit-learn] logreg | linear dataset: acc: %.2f prec: %.2f recall: %.2f f1: %.2f\" % (accuracy_score(dataset_y, pred_y_2d), precision_score(dataset_y, pred_y_2d), recall_score(dataset_y, pred_y_2d), f1_score(dataset_y, pred_y_2d)))\n",
        "print(\"[scikit-learn] logreg | circle dataset: acc: %.2f prec: %.2f recall: %.2f f1: %.2f\" % (accuracy_score(dataset_y_circ, pred_y_circ), precision_score(dataset_y_circ, pred_y_circ), recall_score(dataset_y_circ, pred_y_circ), f1_score(dataset_y_circ, pred_y_circ)))\n",
        "print(\"[scikit-learn] tree | linear dataset: acc: %.2f prec: %.2f recall: %.2f f1: %.2f\" % (accuracy_score(dataset_y, pred_y_2d_dt), precision_score(dataset_y, pred_y_2d_dt), recall_score(dataset_y, pred_y_2d_dt), f1_score(dataset_y, pred_y_2d_dt)))\n",
        "print(\"[scikit-learn] tree | circle dataset: acc: %.2f prec: %.2f recall: %.2f f1: %.2f\" % (accuracy_score(dataset_y_circ, pred_y_circ_dt), precision_score(dataset_y_circ, pred_y_circ_dt), recall_score(dataset_y_circ, pred_y_circ_dt), f1_score(dataset_y_circ, pred_y_circ_dt)))"
      ],
      "metadata": {
        "id": "7-PGLfW9tfaO"
      },
      "execution_count": null,
      "outputs": []
    },
    {
      "cell_type": "markdown",
      "source": [
        "**Question:**\n",
        "\n",
        "Based on these results, it looks like the decision tree is strictly a better model than logistic regression. But qualitatively, we know this not true. What are we missing?"
      ],
      "metadata": {
        "id": "jSXjBvXqt4oo"
      }
    },
    {
      "cell_type": "markdown",
      "source": [
        "===== (Write your answer here) ====="
      ],
      "metadata": {
        "id": "obixSzfsuEh3"
      }
    },
    {
      "cell_type": "markdown",
      "source": [
        "## Generalization and development sets\n",
        "\n",
        "We will build our dev set by sampling new points in the same way that we generated the training dataset:"
      ],
      "metadata": {
        "id": "k7o8Mv03uXYy"
      }
    },
    {
      "cell_type": "code",
      "source": [
        "# We can reuse the functions used to generate our training datasets\n",
        "n_dev = 100\n",
        "rs = np.random.RandomState(1337)\n",
        "dev_X_2d, dev_y_2d = make_toy_linear(n_dev, rs)\n",
        "dev_X_circ, dev_y_circ = make_toy_circle(n_dev, rs)"
      ],
      "metadata": {
        "id": "_okMxqe5u6Jq"
      },
      "execution_count": null,
      "outputs": []
    },
    {
      "cell_type": "markdown",
      "source": [
        "Now, we can use our existing models to make predictions on our dev set and to compute the metrics we covered previously. Feel free to use the scikit-learn implementations."
      ],
      "metadata": {
        "id": "xK7jVGZ9vITh"
      }
    },
    {
      "cell_type": "code",
      "source": [
        "#############################\n",
        "#### YOUR CODE GOES HERE ####\n",
        "\n",
        "#############################"
      ],
      "metadata": {
        "id": "MP8mnRrKvORk"
      },
      "execution_count": null,
      "outputs": []
    },
    {
      "cell_type": "markdown",
      "source": [
        "**Question:**\n",
        "\n",
        "What is the difference between the training and dev metrics? Why do you see this discrepancy?"
      ],
      "metadata": {
        "id": "ChLCEt5vwIIR"
      }
    },
    {
      "cell_type": "markdown",
      "source": [
        "===== (Write your answer here) ====="
      ],
      "metadata": {
        "id": "8w2F35tFwXiL"
      }
    },
    {
      "cell_type": "markdown",
      "source": [
        "## Summary: Basic metrics guide for binary classification\n",
        "\n",
        "As review, let's summarize the most important fact about each metric. \n",
        "\n",
        "- **Accuracy**: Imagine you are throwing darts. How close the dart get to the bullseye? Accuracy reports the average correctness of model predictions. Sometime you might see this presented as \"error\", which is just 1 - accuracy.\n",
        "- **Precision**: Continuing the darts analogy, if now you throw $K$ darts rather than one, how close are all $K$ to each other? It doesn't matter if the darts are close to the bullseye or not. Precision measures repeatability. \n",
        "- **Recall**: As you just saw, precision is not perfect -- It only captures part of the picture. Let's consider a second analogy. Imagine someone asks you what you got for your birthday the last 10 years. You only really remember what you got last year. Despite this, you are 100% precise since you remembered last year's gift correctly. But what about the other nine? Perfect \"recall\" would be remembering all 10 gifts. But recall only captures part of the picture as well. What if it takes you 100 guesses to get all 10 gifts correctly? Although your recall is perfect, you're not precise.\n",
        "- **F1 score**: By now, you understand that precision and recall present different views on what it means to be a good classifier. But it can be annoying to think about two different metrics. F1 score is combination of both!\n",
        "\n",
        "**When should you use what metric?** \n",
        "If you want a single metric, go with accuracy or F1. Of the two, if you care about the metric being easy to explain and understand, go with accuracy. If you want more detail on how your model is making mistakes, compute precision and recall. In practice, it is very common to report all of these metrics in a summary or dashboard. See `sklearn.metrics.classification_report` as an example. "
      ],
      "metadata": {
        "id": "FcvFxYZhtG0-"
      }
    },
    {
      "cell_type": "markdown",
      "source": [
        "# What if we have more than two classes?\n",
        "\n",
        "You might have noticed that the logistic function $\\sigma$, the loss function, and even the prediction metrics above all assume only two classes: when $y = 0$ and when $y = 1$. If we have $K = 3$ classes, we need to make edits to the model $f_\\theta$, the loss function $\\mathcal{L}_\\mathcal{D}$, and the metrics.\n",
        "\n",
        "**Function approximation model: (3-class) Logistic regression**\n",
        "\n",
        "With two classes, we only had to predict the probability that an example is the positive class, since the probability for the negative class is just 1 minus that. With $K$ classes, we can no longer use that approach: We need to make a probability prediction for each of $K$ classes. For $K=3$, we have:\n",
        "\n",
        "$g_{\\theta, 1}(x) = \\theta_{1,1} x_1 + \\theta_{2,1} x_2 + ... \\qquad g_{\\theta, 2}(x) = \\theta_{1,2} x_1 + \\theta_{2,2} x_2 + ... \\qquad g_{\\theta, 3}(x) = \\theta_{1,3} x_1 + \\theta_{2,3} x_2 + ...$\n",
        "\n",
        "Notice there are more parameters now, expressed as $\\theta_{d, c}$ where the $d$ represents the index for the feature dimension and $c$ represents the index for the class dimension.\n",
        "\n",
        "Now, $g_{\\theta, 1}(x), g_{\\theta, 2}(x), g_{\\theta, 3}(x)$ are all real numbers, but we need them to sum to one. The logistic function $\\sigma$ we know and love is not sufficient for this. Instead, we will introduce a new function called the softmax function, $\\texttt{softmax}$.\n",
        "\n",
        "Define $\\texttt{softmax}(g_{\\theta, 1}(x), g_{\\theta, 2}(x), g_{\\theta, 3}(x)) = \\left(f_{\\theta,1}(x), f_{\\theta,2}(x), f_{\\theta,3}(x)\\right) = \\left( \\frac{e^{g_{\\theta, 1}(x)}}{\\sum_{j=1}^K e^{g_{\\theta, j}(x)}}, \\frac{e^{g_{\\theta, 2}(x)}}{\\sum_{j=1}^K e^{g_{\\theta, j}(x)}}, \\frac{e^{g_{\\theta, 3}(x)}}{\\sum_{j=1}^K e^{g_{\\theta, j}(x)}} \\right)$. \n",
        "\n",
        "Let's dissect this function deeper: It takes $K$ elements as inputs, each an output of the model for each class. These are called *logits*. The softmax function also returns $K$ elements, a normalized probability for each class. This normalization happens by dividing a single exponentiated logit by the sum of exponentiated logits. As a result, each returned value must be between 0 and 1 and the sum of them must equal 1."
      ],
      "metadata": {
        "id": "wkOb_aswR4nl"
      }
    },
    {
      "cell_type": "markdown",
      "source": [
        "**Specialized types of classification**\n",
        "\n",
        "Generally, we use binary or multi-class classification in our ML problem formulation for new tasks. These are easy default problem formulations with robust modeling and debugging tools for many scales of problem and modes of input data. However, there are other assumptions we can make about $y$ which suggest specialized classification models. See the course readings for a wide range of possible statistical models that apply supervised learning in different settings. Here are some examples that often arise in practical systems:\n",
        "\n",
        "* **Multi-label classification**: What if we have multiple response variables we want to predict from the same inputs? It seems wasteful to train multiple classifiers. Here, we assume we have $M$ different response variables $y_1, \\ldots,  y_M$, each with a potentially different number of classes. We can extend the classification problem above by computing a loss for each response variable and training a model using the sum of these loss functions. This way, we have one model that maps inputs to all the response variables at once.\n",
        "* **Hierarchical classification**: What if some classes are special types of other classes? Suppose we want to classify pets into cats and dogs but we also want to know if it is a Siamese or Persian cat, and similarly if it is a poodle or French bulldog. Sure, we could treat this as 6 distinct labels: cat, dog, Siamese cat, Persian cat, poodle, and French bulldog; and then perform multi-label classification, but this feels wrong. For instance, we should never predict dog and then predict Siamese cat. Hierarchical classification trains models to respect this hierarchy. Generally this is done with a classifier per hierarchy level. In this cat/dog example, we would need three classifiers, one to predict cat vs dog, one for predicting Siamese vs Persian *given we predicted cat*, and one for predicting poodle vs French bulldog given we predicted dog.\n",
        "* **Multi-task problems**: This is the most flexible framework. Much like multi-label classification, suppose we have $M$ response variables. This time, however, not all response variables are suited for classification. It could be that some of the response variables are for regression, some are for hierarchical classification, and others are for ordinal regression! Regardless, we can compute a loss function per response variable and sum them to train our model. In practice, this is a powerful idea: Often if the $M$ \"tasks\" are related, training a model to solve all $M$ tasks might produce better results per task than training $M$ models independently."
      ],
      "metadata": {
        "id": "7fE85EPAqqtu"
      }
    },
    {
      "cell_type": "markdown",
      "source": [
        "In the below example, we'll calculate softmax based on a randomly sampled set of variables. then, we'll see how these softmax values relate to sample probabilities.\n",
        "\n",
        "Note that the exponentiate logits in the softma calculation sum to 1, as shown by the `probs` variable:"
      ],
      "metadata": {
        "id": "GpBghofPYebs"
      }
    },
    {
      "cell_type": "code",
      "source": [
        "# play with softmax\n",
        "\n",
        "k = 3\n",
        "logits = np.random.randn(3)  # randomly sampled\n",
        "softmax = lambda logits: np.exp(logits) / np.sum(np.exp(logits))\n",
        "probs = softmax(logits)\n",
        "\n",
        "print('logits', logits)\n",
        "print('probs', probs)\n",
        "print('sum', np.sum(probs))"
      ],
      "metadata": {
        "id": "DLSaY6IV3Vc6"
      },
      "execution_count": null,
      "outputs": []
    },
    {
      "cell_type": "markdown",
      "source": [
        "**Question**:\n",
        "\n",
        "Why do we need to exponentiate logits in the softmax to sum to one?\n",
        "\n",
        "HINT: what happens if a logit is negative?"
      ],
      "metadata": {
        "id": "Hku9WvvN3Ufq"
      }
    },
    {
      "cell_type": "markdown",
      "source": [
        "===== (Write your answer here) ====="
      ],
      "metadata": {
        "id": "ygbKL_SV26_r"
      }
    },
    {
      "cell_type": "markdown",
      "source": [
        "**Loss function: Cross entropy**\n",
        "\n",
        "There is a natural generalization of binary cross entropy where we sum across $K$ classes rather than 2.\n",
        "\n",
        "$\\mathcal{L}_\\mathcal{D}(\\theta) = -\\sum_{i \\in \\mathcal{D}}\\sum_{j=1}^K y^{(i)} \\log f_{\\theta,j}(x^{(i)})$\n",
        "\n",
        "where $y^{(i)}$ is the $i$-th element in the dataset $\\mathcal{D}$. In the equation, $f_{\\theta, 1}$ is the output of the softmax function. "
      ],
      "metadata": {
        "id": "7qXq1KSo31jY"
      }
    },
    {
      "cell_type": "markdown",
      "source": [
        "**Toy dataset**\n",
        "\n",
        "Now, let's generate a new toy dataset with $K=4$ classes by dividing a two-dimensional space into four squares (plus noise). Then we'll visualize our dataset:"
      ],
      "metadata": {
        "id": "wqHG8vXf5L4c"
      }
    },
    {
      "cell_type": "code",
      "source": [
        "# parameters of toy dataset\n",
        "n_examples = 500\n",
        "n_dev = 100\n",
        "\n",
        "# uniformly sample inputs x.\n",
        "rs = np.random.RandomState(42)\n",
        "\n",
        "def make_toy_squares(n_examples, rs):\n",
        "  dataset_X = 2 * rs.rand(n_examples,2) - 1\n",
        "  dataset_y = []\n",
        "  for i in range(len(dataset_X)):\n",
        "    x_i = dataset_X[i]\n",
        "    if x_i[0] >= 0 and x_i[1] >= 0:\n",
        "      dataset_y.append(0)\n",
        "    elif x_i[0] >= 0 and x_i[1] < 0:\n",
        "      dataset_y.append(1)\n",
        "    elif x_i[0] < 0 and x_i[1] >= 0:\n",
        "      dataset_y.append(2)\n",
        "    elif x_i[0] < 0 and x_i[1] < 0:\n",
        "      dataset_y.append(3)\n",
        "    else:\n",
        "      raise Exception('how did you get here?')\n",
        "  noise = 0.5 * rs.rand(n_examples, 2)\n",
        "  dataset_X = dataset_X + noise\n",
        "  dataset_y = np.array(dataset_y).astype(int)\n",
        "  return dataset_X, dataset_y \n",
        "\n",
        "dataset_X_sqr, dataset_y_sqr = make_toy_squares(n_examples, rs)\n",
        "dev_X_sqr, dev_y_sqr = make_toy_squares(n_dev, rs)"
      ],
      "metadata": {
        "id": "caDKupSKzs9K"
      },
      "execution_count": null,
      "outputs": []
    },
    {
      "cell_type": "code",
      "source": [
        "plt.figure(figsize=(8, 8))\n",
        "plt.scatter(dataset_X_sqr[dataset_y_sqr == 0, 0], \n",
        "            dataset_X_sqr[dataset_y_sqr == 0, 1], color='r')\n",
        "plt.scatter(dataset_X_sqr[dataset_y_sqr == 1, 0], \n",
        "            dataset_X_sqr[dataset_y_sqr == 1, 1], color='b')\n",
        "plt.scatter(dataset_X_sqr[dataset_y_sqr == 2, 0], \n",
        "            dataset_X_sqr[dataset_y_sqr == 2, 1], color='orange')\n",
        "plt.scatter(dataset_X_sqr[dataset_y_sqr == 3, 0], \n",
        "            dataset_X_sqr[dataset_y_sqr == 3, 1], color='magenta')\n",
        "plt.xlabel('x', fontsize=18)\n",
        "plt.ylabel('y', fontsize=18)\n",
        "plt.show()"
      ],
      "metadata": {
        "id": "Y3tH9OJP6IMg"
      },
      "execution_count": null,
      "outputs": []
    },
    {
      "cell_type": "markdown",
      "source": [
        "**Training models**\n",
        "\n",
        "Now, use our newly generated toy training set to train a logisitic regression model and a decision tree.\n",
        "\n",
        "To find the best performing decision tree model, search through the values in `option_grid` and train a model using each value for `max_leaf_nodes`. At the end of your grid search, print out the best `max_leaf_nodes` choice you found to identify the best-performing option:"
      ],
      "metadata": {
        "id": "qUhVJ5Xv6emZ"
      }
    },
    {
      "cell_type": "code",
      "source": [
        "option_grid = [2, 5, 10, 15, 20, 25, 30]\n",
        "\n",
        "#############################\n",
        "# Please store your models with these variable names:\n",
        "# regr_sqr = ...\n",
        "# regr_sqr_dt = ... <-- best decision tree\n",
        "#### YOUR CODE GOES HERE ####\n",
        "\n",
        "#############################"
      ],
      "metadata": {
        "id": "puHnvnEC67dW"
      },
      "execution_count": null,
      "outputs": []
    },
    {
      "cell_type": "markdown",
      "source": [
        "**Performance metrics**\n",
        "\n",
        "Many of the metrics we discussed above are specific to binary classification, since the concept of a true positive or true negative does not adapt well to large $K$. In this course, we will largely use classification accuracy as the primary metric. For advanced learners, read about area under the ROC curve (AUROC) for another popular metric for $K$-way classification.\n",
        "\n",
        "Now, let's calculate the metrics for our best-performing decision tree models and then visualize their predictive results, as we did previously:"
      ],
      "metadata": {
        "id": "C0MrS4Xt7Egl"
      }
    },
    {
      "cell_type": "code",
      "source": [
        "from sklearn.metrics import accuracy_score\n",
        "\n",
        "pred_y_sqr = regr_sqr.predict(dataset_X_sqr)\n",
        "dev_pred_y_sqr = regr_sqr.predict(dev_X_sqr)\n",
        "\n",
        "pred_y_sqr_dt = regr_sqr_dt.predict(dataset_X_sqr)\n",
        "dev_pred_y_sqr_dt = regr_sqr_dt.predict(dev_X_sqr)\n",
        "\n",
        "print(\"[train] logreg | square dataset: acc: %.2f\" % accuracy_score(dataset_y_sqr, pred_y_sqr))\n",
        "print(\"[train] tree | square dataset: acc: %.2f\" % accuracy_score(dataset_y_sqr, pred_y_sqr_dt))\n",
        "print(\"[dev] logreg | square dataset: acc: %.2f\" % accuracy_score(dev_y_sqr, dev_pred_y_sqr))\n",
        "print(\"[dev] tree | square dataset: acc: %.2f\" % accuracy_score(dev_y_sqr, dev_pred_y_sqr_dt))"
      ],
      "metadata": {
        "id": "BoiEc3uG7bwy"
      },
      "execution_count": null,
      "outputs": []
    },
    {
      "cell_type": "code",
      "source": [
        "z, xx, yy = get_contour(regr_sqr, min_x=-1, max_x=1.5, min_y=-1, max_y=1.5)\n",
        "\n",
        "plt.figure(figsize=(8, 8))\n",
        "plt.scatter(dataset_X_sqr[dataset_y_sqr == 0, 0], \n",
        "            dataset_X_sqr[dataset_y_sqr == 0, 1], color='r')\n",
        "plt.scatter(dataset_X_sqr[dataset_y_sqr == 1, 0], \n",
        "            dataset_X_sqr[dataset_y_sqr == 1, 1], color='b')\n",
        "plt.scatter(dataset_X_sqr[dataset_y_sqr == 2, 0], \n",
        "            dataset_X_sqr[dataset_y_sqr == 2, 1], color='orange')\n",
        "plt.scatter(dataset_X_sqr[dataset_y_sqr == 3, 0], \n",
        "            dataset_X_sqr[dataset_y_sqr == 3, 1], color='magenta')\n",
        "plt.scatter(xx[z == 0], yy[z == 0], color='r', alpha=0.01)\n",
        "plt.scatter(xx[z == 1], yy[z == 1], color='b', alpha=0.01)\n",
        "plt.scatter(xx[z == 2], yy[z == 2], color='orange', alpha=0.01)\n",
        "plt.scatter(xx[z == 3], yy[z == 3], color='magenta', alpha=0.01)\n",
        "plt.contour(xx, yy, z, colors='k')\n",
        "plt.xlabel('x', fontsize=18)\n",
        "plt.ylabel('y', fontsize=18)\n",
        "plt.show()"
      ],
      "metadata": {
        "id": "-NR6qeWG9bLR"
      },
      "execution_count": null,
      "outputs": []
    },
    {
      "cell_type": "code",
      "source": [
        "z, xx, yy = get_contour(regr_sqr_dt, min_x=-1, max_x=1.5, min_y=-1, max_y=1.5)\n",
        "\n",
        "plt.figure(figsize=(8, 8))\n",
        "plt.scatter(dataset_X_sqr[dataset_y_sqr == 0, 0], \n",
        "            dataset_X_sqr[dataset_y_sqr == 0, 1], color='r')\n",
        "plt.scatter(dataset_X_sqr[dataset_y_sqr == 1, 0], \n",
        "            dataset_X_sqr[dataset_y_sqr == 1, 1], color='b')\n",
        "plt.scatter(dataset_X_sqr[dataset_y_sqr == 2, 0], \n",
        "            dataset_X_sqr[dataset_y_sqr == 2, 1], color='orange')\n",
        "plt.scatter(dataset_X_sqr[dataset_y_sqr == 3, 0], \n",
        "            dataset_X_sqr[dataset_y_sqr == 3, 1], color='magenta')\n",
        "plt.scatter(xx[z == 0], yy[z == 0], color='r', alpha=0.01)\n",
        "plt.scatter(xx[z == 1], yy[z == 1], color='b', alpha=0.01)\n",
        "plt.scatter(xx[z == 2], yy[z == 2], color='orange', alpha=0.01)\n",
        "plt.scatter(xx[z == 3], yy[z == 3], color='magenta', alpha=0.01)\n",
        "plt.contour(xx, yy, z, colors='k')\n",
        "plt.xlabel('x', fontsize=18)\n",
        "plt.ylabel('y', fontsize=18)\n",
        "plt.show()"
      ],
      "metadata": {
        "id": "KEVc8Nng9s_8"
      },
      "execution_count": null,
      "outputs": []
    },
    {
      "cell_type": "markdown",
      "source": [
        "# Conclusion and next steps\n",
        "\n",
        "Great work! In this session, you got to try multiple models on three different datasets. We revisited the concepts of underfitting and overfitting, and we learned to use new evaluation metrics that are appropriate to classification, a common task in machine learning.\n",
        "\n",
        "Next, we will work on classification problems in a higher dimensional setting. You can move on to part two of the notebook!"
      ],
      "metadata": {
        "id": "M9jNmGEYmS2k"
      }
    }
  ]
}